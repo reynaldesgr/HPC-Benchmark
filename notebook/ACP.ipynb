{
 "cells": [
  {
   "cell_type": "markdown",
   "id": "dc5b550c-d4f6-4c91-a410-12f14c0fe84e",
   "metadata": {},
   "source": [
    "### ACP"
   ]
  },
  {
   "cell_type": "code",
   "execution_count": null,
   "id": "7b7deb05-4fb2-4fc9-b341-dabf980a48cb",
   "metadata": {},
   "outputs": [],
   "source": [
    "# Imports\n",
    "import pandas as pd\n",
    "from sklearn.preprocessing import StandardScaler\n",
    "from sklearn.decomposition import PCA\n",
    "import matplotlib.pyplot as plt"
   ]
  },
  {
   "cell_type": "code",
   "execution_count": null,
   "id": "e11ee99e-7c49-435a-bb04-fc741cf83840",
   "metadata": {},
   "outputs": [],
   "source": [
    "# Load data\n",
    "#data = pd.read_csv(...)"
   ]
  },
  {
   "cell_type": "code",
   "execution_count": null,
   "id": "ee59c2d3-2ba7-40f0-97ff-b90d971366c6",
   "metadata": {},
   "outputs": [],
   "source": [
    "# Standard. : extract data\n",
    "X = data.iloc[:,1:]\n",
    "scaler = StandardScaler()\n",
    "X_scaled = scaler.fit_transform(X)"
   ]
  },
  {
   "cell_type": "code",
   "execution_count": null,
   "id": "c0f83604-0437-4666-9bc7-0cb2fd610592",
   "metadata": {},
   "outputs": [],
   "source": [
    "# PCA\n",
    "pca = PCA()\n",
    "\n",
    "# PCA on standard. data\n",
    "pca.fit(X_scaled)\n",
    "X_pca = pca.transform(X_scaled)"
   ]
  },
  {
   "cell_type": "code",
   "execution_count": null,
   "id": "2f4a106b-c1af-4637-9797-9751e91c34ce",
   "metadata": {},
   "outputs": [],
   "source": [
    "# Plot\n",
    "plt.bar(range(1, len(pca.explained_variance_ratio_) + 1), pca.explained_variance_ratio_)\n",
    "plt.xlabel('Composante principale')\n",
    "plt.ylabel('Variance expliquée')\n",
    "plt.title('Variance expliquée par chaque composante principale')\n",
    "plt.show()"
   ]
  }
 ],
 "metadata": {
  "kernelspec": {
   "display_name": "Python 3 (ipykernel)",
   "language": "python",
   "name": "python3"
  },
  "language_info": {
   "codemirror_mode": {
    "name": "ipython",
    "version": 3
   },
   "file_extension": ".py",
   "mimetype": "text/x-python",
   "name": "python",
   "nbconvert_exporter": "python",
   "pygments_lexer": "ipython3",
   "version": "3.10.12"
  }
 },
 "nbformat": 4,
 "nbformat_minor": 5
}
